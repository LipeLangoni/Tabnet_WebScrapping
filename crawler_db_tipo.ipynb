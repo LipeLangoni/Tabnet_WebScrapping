{
 "cells": [
  {
   "cell_type": "code",
   "execution_count": null,
   "metadata": {},
   "outputs": [],
   "source": [
    "from bs4 import BeautifulSoup as bs\n",
    "import pandas as pd\n",
    "import selenium as sln\n",
    "from selenium.webdriver.support.ui import Select\n",
    "from selenium.webdriver.common.action_chains import ActionChains\n",
    "from selenium.webdriver.common.keys import Keys\n",
    "from selenium.webdriver.common.by import By\n",
    "from selenium import webdriver\n",
    "from selenium.webdriver.chrome.service import Service\n",
    "from webdriver_manager.chrome import ChromeDriverManager\n",
    "chrome_options = webdriver.ChromeOptions()\n",
    "chrome_options.add_argument('--headless')\n",
    "chrome_options.add_argument('--no-sandbox')\n",
    "chrome_options.add_argument('--disable-dev-shm-usage')\n",
    "wd = webdriver.Chrome(service=Service(ChromeDriverManager().install()))\n",
    "wd.get(\"http://tabnet.datasus.gov.br/cgi/deftohtm.exe?sih/cnv/qrbr.def\")"
   ]
  },
  {
   "cell_type": "code",
   "execution_count": null,
   "metadata": {},
   "outputs": [],
   "source": [
    "wd.set_page_load_timeout(1800)"
   ]
  },
  {
   "cell_type": "code",
   "execution_count": null,
   "metadata": {},
   "outputs": [],
   "source": [
    "select_box = wd.find_element(\"name\", \"Coluna\")\n",
    "box_object = Select(select_box)\n",
    "for opt in box_object.options:\n",
    "    if str(opt.text) == \"Subgrupo proced.\":\n",
    "        opt.click()"
   ]
  },
  {
   "cell_type": "code",
   "execution_count": null,
   "metadata": {},
   "outputs": [],
   "source": [
    "select_box2 = wd.find_element(\"name\", \"Arquivos\")\n",
    "box_object = Select(select_box2)\n",
    "for opt in box_object.options:\n",
    "  ActionChains(wd) \\\n",
    "    .key_down(Keys.SHIFT) \\\n",
    "    .click(opt) \\\n",
    "    .key_up(Keys.SHIFT) \\\n",
    "    .perform()"
   ]
  },
  {
   "cell_type": "code",
   "execution_count": null,
   "metadata": {},
   "outputs": [],
   "source": [
    "button = wd.find_element(\"name\", \"mostre\")\n",
    "button.click()"
   ]
  },
  {
   "cell_type": "code",
   "execution_count": null,
   "metadata": {},
   "outputs": [],
   "source": [
    "nivel2 = wd.find_element(\"xpath\", \"/html/body/div/div/div[3]/table[1]/tbody/tr/td[1]/a\")\n",
    "href = nivel2.get_attribute('href')\n",
    "df = pd.read_csv(href,sep=';', encoding='latin-1',skiprows=3)\n",
    "df.head()"
   ]
  }
 ],
 "metadata": {
  "kernelspec": {
   "display_name": "Python 3.8.10 64-bit",
   "language": "python",
   "name": "python3"
  },
  "language_info": {
   "name": "python",
   "version": "3.8.10"
  },
  "orig_nbformat": 4,
  "vscode": {
   "interpreter": {
    "hash": "916dbcbb3f70747c44a77c7bcd40155683ae19c65e1c03b4aa3499c5328201f1"
   }
  }
 },
 "nbformat": 4,
 "nbformat_minor": 2
}
